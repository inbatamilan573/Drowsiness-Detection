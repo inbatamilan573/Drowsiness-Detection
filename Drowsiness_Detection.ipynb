{
  "nbformat": 4,
  "nbformat_minor": 0,
  "metadata": {
    "colab": {
      "provenance": [],
      "include_colab_link": true
    },
    "kernelspec": {
      "name": "python3",
      "display_name": "Python 3"
    },
    "language_info": {
      "name": "python"
    },
    "accelerator": "GPU"
  },
  "cells": [
    {
      "cell_type": "markdown",
      "metadata": {
        "id": "view-in-github",
        "colab_type": "text"
      },
      "source": [
        "<a href=\"https://colab.research.google.com/github/inbatamilan573/Drowsiness-Detection/blob/main/Drowsiness_Detection.ipynb\" target=\"_parent\"><img src=\"https://colab.research.google.com/assets/colab-badge.svg\" alt=\"Open In Colab\"/></a>"
      ]
    },
    {
      "cell_type": "code",
      "metadata": {
        "id": "WILUuuvBCmkQ"
      },
      "source": [
        "#https://drive.google.com/drive/folders/1GDs1bpa0oJDpuLVTwaIlj5dLU1lwkciz?usp=sharing\n",
        "#1. Click on the above link\n",
        "#2. Link will open the dataset in a Google drive\n",
        "#3. Download the dataset to your local machine, it would be a zipped file\n",
        "#4. Unzip the downloaded dataset\n",
        "#5. Upload the dataset to your google drive\n",
        "#6. You may need to set the correct path of dataset over your drive in the code to run it successfully"
      ],
      "execution_count": null,
      "outputs": []
    },
    {
      "cell_type": "code",
      "metadata": {
        "colab": {
          "base_uri": "https://localhost:8080/"
        },
        "id": "u0tIBsi7oEjM",
        "outputId": "613f98fb-0274-4d71-d7e5-812960303ddf"
      },
      "source": [
        "from google.colab import drive\n",
        "drive.mount('/content/drive')"
      ],
      "execution_count": null,
      "outputs": [
        {
          "output_type": "stream",
          "name": "stdout",
          "text": [
            "Mounted at /content/drive\n"
          ]
        }
      ]
    },
    {
      "cell_type": "code",
      "metadata": {
        "colab": {
          "base_uri": "https://localhost:8080/"
        },
        "id": "n8uXToxRoe5q",
        "outputId": "a308def9-b382-4221-d232-fc09f60d210a"
      },
      "source": [
        "!pip install opencv-python\n",
        "!pip install keras\n",
        "!pip install pickles"
      ],
      "execution_count": null,
      "outputs": [
        {
          "output_type": "stream",
          "name": "stdout",
          "text": [
            "Requirement already satisfied: opencv-python in /usr/local/lib/python3.7/dist-packages (4.1.2.30)\n",
            "Requirement already satisfied: numpy>=1.14.5 in /usr/local/lib/python3.7/dist-packages (from opencv-python) (1.19.5)\n",
            "Requirement already satisfied: keras in /usr/local/lib/python3.7/dist-packages (2.6.0)\n",
            "Collecting pickles\n",
            "  Downloading pickles-0.1.1-py3-none-any.whl (5.3 kB)\n",
            "Installing collected packages: pickles\n",
            "Successfully installed pickles-0.1.1\n"
          ]
        }
      ]
    },
    {
      "cell_type": "code",
      "metadata": {
        "id": "bHbCSZ6Rofed"
      },
      "source": [
        "import os\n",
        "import pandas as pd\n",
        "import numpy as np\n",
        "import keras\n",
        "from keras.models import Sequential\n",
        "from keras.layers import Conv2D, MaxPooling2D, Dropout, Flatten, Dense, BatchNormalization\n",
        "from sklearn.model_selection import train_test_split\n",
        "from keras.preprocessing.image import ImageDataGenerator\n",
        "import cv2\n",
        "from sklearn.preprocessing import OneHotEncoder\n",
        "from sklearn.compose import ColumnTransformer\n",
        "import pickle\n",
        "from sklearn.model_selection import train_test_split\n",
        "from sklearn.tree import DecisionTreeClassifier\n",
        "from sklearn.neighbors import KNeighborsClassifier\n",
        "from sklearn.svm import SVC\n",
        "from sklearn.preprocessing import StandardScaler\n",
        "from sklearn.metrics import confusion_matrix\n",
        "from sklearn.metrics import roc_curve\n",
        "import matplotlib.pyplot as plt"
      ],
      "execution_count": null,
      "outputs": []
    },
    {
      "cell_type": "code",
      "metadata": {
        "id": "VuZzblJuojDI"
      },
      "source": [
        "IMAGE_WIDTH=128\n",
        "IMAGE_HEIGHT=128\n",
        "IMAGE_SIZE=(IMAGE_WIDTH, IMAGE_HEIGHT)\n",
        "IMAGE_CHANNELS=3"
      ],
      "execution_count": null,
      "outputs": []
    },
    {
      "cell_type": "code",
      "metadata": {
        "id": "46LyXrHAolZZ"
      },
      "source": [
        "path_O = '/content/drive/MyDrive/Drowsiness_Dataset/Open'\n",
        "path_C = '/content/drive/MyDrive/Drowsiness_Dataset/Closed'\n",
        "files =[]\n",
        "categories =[]\n",
        "for i in os.listdir(path_O):\n",
        "    files.append(path_O+'/'+i)\n",
        "    # 1 for Open\n",
        "    categories.append(1)\n",
        "for i in os.listdir(path_C):\n",
        "    files.append(path_C+'/'+i)\n",
        "    # 0 for Closed\n",
        "    categories.append(0)\n",
        "\n",
        "df = pd.DataFrame({\n",
        "    'filename': files,\n",
        "    'category': categories\n",
        "})"
      ],
      "execution_count": null,
      "outputs": []
    },
    {
      "cell_type": "code",
      "metadata": {
        "colab": {
          "base_uri": "https://localhost:8080/",
          "height": 424
        },
        "id": "4gbEmlW4D6a8",
        "outputId": "43574aae-9cf9-4f27-c8c9-7fdbce5ec2b3"
      },
      "source": [
        "df"
      ],
      "execution_count": null,
      "outputs": [
        {
          "output_type": "execute_result",
          "data": {
            "text/html": [
              "<div>\n",
              "<style scoped>\n",
              "    .dataframe tbody tr th:only-of-type {\n",
              "        vertical-align: middle;\n",
              "    }\n",
              "\n",
              "    .dataframe tbody tr th {\n",
              "        vertical-align: top;\n",
              "    }\n",
              "\n",
              "    .dataframe thead th {\n",
              "        text-align: right;\n",
              "    }\n",
              "</style>\n",
              "<table border=\"1\" class=\"dataframe\">\n",
              "  <thead>\n",
              "    <tr style=\"text-align: right;\">\n",
              "      <th></th>\n",
              "      <th>filename</th>\n",
              "      <th>category</th>\n",
              "    </tr>\n",
              "  </thead>\n",
              "  <tbody>\n",
              "    <tr>\n",
              "      <th>0</th>\n",
              "      <td>/content/drive/MyDrive/Drowsiness_Dataset/Open...</td>\n",
              "      <td>1</td>\n",
              "    </tr>\n",
              "    <tr>\n",
              "      <th>1</th>\n",
              "      <td>/content/drive/MyDrive/Drowsiness_Dataset/Open...</td>\n",
              "      <td>1</td>\n",
              "    </tr>\n",
              "    <tr>\n",
              "      <th>2</th>\n",
              "      <td>/content/drive/MyDrive/Drowsiness_Dataset/Open...</td>\n",
              "      <td>1</td>\n",
              "    </tr>\n",
              "    <tr>\n",
              "      <th>3</th>\n",
              "      <td>/content/drive/MyDrive/Drowsiness_Dataset/Open...</td>\n",
              "      <td>1</td>\n",
              "    </tr>\n",
              "    <tr>\n",
              "      <th>4</th>\n",
              "      <td>/content/drive/MyDrive/Drowsiness_Dataset/Open...</td>\n",
              "      <td>1</td>\n",
              "    </tr>\n",
              "    <tr>\n",
              "      <th>...</th>\n",
              "      <td>...</td>\n",
              "      <td>...</td>\n",
              "    </tr>\n",
              "    <tr>\n",
              "      <th>1443</th>\n",
              "      <td>/content/drive/MyDrive/Drowsiness_Dataset/Clos...</td>\n",
              "      <td>0</td>\n",
              "    </tr>\n",
              "    <tr>\n",
              "      <th>1444</th>\n",
              "      <td>/content/drive/MyDrive/Drowsiness_Dataset/Clos...</td>\n",
              "      <td>0</td>\n",
              "    </tr>\n",
              "    <tr>\n",
              "      <th>1445</th>\n",
              "      <td>/content/drive/MyDrive/Drowsiness_Dataset/Clos...</td>\n",
              "      <td>0</td>\n",
              "    </tr>\n",
              "    <tr>\n",
              "      <th>1446</th>\n",
              "      <td>/content/drive/MyDrive/Drowsiness_Dataset/Clos...</td>\n",
              "      <td>0</td>\n",
              "    </tr>\n",
              "    <tr>\n",
              "      <th>1447</th>\n",
              "      <td>/content/drive/MyDrive/Drowsiness_Dataset/Clos...</td>\n",
              "      <td>0</td>\n",
              "    </tr>\n",
              "  </tbody>\n",
              "</table>\n",
              "<p>1448 rows × 2 columns</p>\n",
              "</div>"
            ],
            "text/plain": [
              "                                               filename  category\n",
              "0     /content/drive/MyDrive/Drowsiness_Dataset/Open...         1\n",
              "1     /content/drive/MyDrive/Drowsiness_Dataset/Open...         1\n",
              "2     /content/drive/MyDrive/Drowsiness_Dataset/Open...         1\n",
              "3     /content/drive/MyDrive/Drowsiness_Dataset/Open...         1\n",
              "4     /content/drive/MyDrive/Drowsiness_Dataset/Open...         1\n",
              "...                                                 ...       ...\n",
              "1443  /content/drive/MyDrive/Drowsiness_Dataset/Clos...         0\n",
              "1444  /content/drive/MyDrive/Drowsiness_Dataset/Clos...         0\n",
              "1445  /content/drive/MyDrive/Drowsiness_Dataset/Clos...         0\n",
              "1446  /content/drive/MyDrive/Drowsiness_Dataset/Clos...         0\n",
              "1447  /content/drive/MyDrive/Drowsiness_Dataset/Clos...         0\n",
              "\n",
              "[1448 rows x 2 columns]"
            ]
          },
          "metadata": {},
          "execution_count": 6
        }
      ]
    },
    {
      "cell_type": "code",
      "metadata": {
        "colab": {
          "base_uri": "https://localhost:8080/"
        },
        "id": "mwljcu_xMntG",
        "outputId": "99fcf179-5d94-4909-f6cc-ebe974321616"
      },
      "source": [
        "model = Sequential()\n",
        "\n",
        "model.add(Conv2D(32, (3, 3), activation='relu', input_shape=(IMAGE_WIDTH, IMAGE_HEIGHT, IMAGE_CHANNELS)))\n",
        "model.add(BatchNormalization())\n",
        "model.add(MaxPooling2D(pool_size=(2, 2)))\n",
        "model.add(Dropout(0.5))\n",
        "\n",
        "model.add(Conv2D(64, (3, 3), activation='relu'))\n",
        "model.add(BatchNormalization())\n",
        "model.add(MaxPooling2D(pool_size=(2, 2)))\n",
        "model.add(Dropout(0.5))\n",
        "\n",
        "model.add(Conv2D(128, (3, 3), activation='relu'))\n",
        "model.add(BatchNormalization())\n",
        "model.add(MaxPooling2D(pool_size=(2, 2)))\n",
        "model.add(Dropout(0.5))\n",
        "\n",
        "model.add(Flatten())\n",
        "model.add(Dense(512, activation='relu'))\n",
        "model.add(BatchNormalization())\n",
        "model.add(Dropout(0.5))\n",
        "model.add(Dense(2, activation='softmax'))\n",
        "\n",
        "model.compile(loss='categorical_crossentropy', optimizer='adam', metrics=['accuracy'])\n",
        "\n",
        "model.summary()\n"
      ],
      "execution_count": null,
      "outputs": [
        {
          "output_type": "stream",
          "name": "stdout",
          "text": [
            "Model: \"sequential\"\n",
            "_________________________________________________________________\n",
            "Layer (type)                 Output Shape              Param #   \n",
            "=================================================================\n",
            "conv2d (Conv2D)              (None, 126, 126, 32)      896       \n",
            "_________________________________________________________________\n",
            "batch_normalization (BatchNo (None, 126, 126, 32)      128       \n",
            "_________________________________________________________________\n",
            "max_pooling2d (MaxPooling2D) (None, 63, 63, 32)        0         \n",
            "_________________________________________________________________\n",
            "dropout (Dropout)            (None, 63, 63, 32)        0         \n",
            "_________________________________________________________________\n",
            "conv2d_1 (Conv2D)            (None, 61, 61, 64)        18496     \n",
            "_________________________________________________________________\n",
            "batch_normalization_1 (Batch (None, 61, 61, 64)        256       \n",
            "_________________________________________________________________\n",
            "max_pooling2d_1 (MaxPooling2 (None, 30, 30, 64)        0         \n",
            "_________________________________________________________________\n",
            "dropout_1 (Dropout)          (None, 30, 30, 64)        0         \n",
            "_________________________________________________________________\n",
            "conv2d_2 (Conv2D)            (None, 28, 28, 128)       73856     \n",
            "_________________________________________________________________\n",
            "batch_normalization_2 (Batch (None, 28, 28, 128)       512       \n",
            "_________________________________________________________________\n",
            "max_pooling2d_2 (MaxPooling2 (None, 14, 14, 128)       0         \n",
            "_________________________________________________________________\n",
            "dropout_2 (Dropout)          (None, 14, 14, 128)       0         \n",
            "_________________________________________________________________\n",
            "flatten (Flatten)            (None, 25088)             0         \n",
            "_________________________________________________________________\n",
            "dense (Dense)                (None, 512)               12845568  \n",
            "_________________________________________________________________\n",
            "batch_normalization_3 (Batch (None, 512)               2048      \n",
            "_________________________________________________________________\n",
            "dropout_3 (Dropout)          (None, 512)               0         \n",
            "_________________________________________________________________\n",
            "dense_1 (Dense)              (None, 2)                 1026      \n",
            "=================================================================\n",
            "Total params: 12,942,786\n",
            "Trainable params: 12,941,314\n",
            "Non-trainable params: 1,472\n",
            "_________________________________________________________________\n"
          ]
        }
      ]
    },
    {
      "cell_type": "code",
      "metadata": {
        "id": "FCUifnr7wSW6"
      },
      "source": [
        "df[\"category\"] = df[\"category\"].replace({0: 'Closed', 1: 'Open'})\n",
        "\n",
        "train_df, test_df = train_test_split(df, test_size=0.20)\n",
        "\n",
        "\n",
        "train_df = train_df.reset_index(drop=True)\n",
        "test_df = test_df.reset_index(drop=True)\n",
        "total_train = train_df.shape[0]\n",
        "total_test = test_df.shape[0]"
      ],
      "execution_count": null,
      "outputs": []
    },
    {
      "cell_type": "code",
      "metadata": {
        "colab": {
          "base_uri": "https://localhost:8080/"
        },
        "id": "dUi3PL0VMtgH",
        "outputId": "d8531b3d-c4b0-4483-c4b8-3509abdcff90"
      },
      "source": [
        "batch_size=15\n",
        "\n",
        "train_datagen = ImageDataGenerator(\n",
        "    rotation_range=15,\n",
        "    rescale=1./255,\n",
        "    shear_range=0.1,\n",
        "    zoom_range=0.2,\n",
        "    horizontal_flip=True,\n",
        "    width_shift_range=0.1,\n",
        "    height_shift_range=0.1\n",
        ")\n",
        "\n",
        "train_generator = train_datagen.flow_from_dataframe(\n",
        "    train_df,\n",
        "    x_col='filename',\n",
        "    y_col='category',\n",
        "    target_size=IMAGE_SIZE,\n",
        "    class_mode='categorical',\n",
        "    batch_size=batch_size\n",
        ")\n",
        "\n",
        "test_datagen = ImageDataGenerator(rescale=1./255)\n",
        "test_generator = test_datagen.flow_from_dataframe(\n",
        "    test_df,\n",
        "    x_col='filename',\n",
        "    y_col='category',\n",
        "    target_size=IMAGE_SIZE,\n",
        "    class_mode='categorical',\n",
        "    batch_size=batch_size\n",
        ")\n",
        "\n",
        "\n"
      ],
      "execution_count": null,
      "outputs": [
        {
          "output_type": "stream",
          "name": "stdout",
          "text": [
            "Found 1158 validated image filenames belonging to 2 classes.\n",
            "Found 290 validated image filenames belonging to 2 classes.\n"
          ]
        }
      ]
    },
    {
      "cell_type": "code",
      "metadata": {
        "id": "BG4I4HKbwpOv",
        "colab": {
          "base_uri": "https://localhost:8080/"
        },
        "outputId": "82677e92-c02c-42e5-bcb2-4d0f8ec28b15"
      },
      "source": [
        "epochs=10\n",
        "history = model.fit(\n",
        "    train_generator,\n",
        "    epochs=epochs,\n",
        "\n",
        ")\n",
        "print(history.history['accuracy'])"
      ],
      "execution_count": null,
      "outputs": [
        {
          "output_type": "stream",
          "name": "stdout",
          "text": [
            "Epoch 1/10\n",
            "78/78 [==============================] - 454s 5s/step - loss: 0.7306 - accuracy: 0.7427\n",
            "Epoch 2/10\n",
            "78/78 [==============================] - 11s 139ms/step - loss: 0.4882 - accuracy: 0.8109\n",
            "Epoch 3/10\n",
            "78/78 [==============================] - 11s 141ms/step - loss: 0.4738 - accuracy: 0.8169\n",
            "Epoch 4/10\n",
            "78/78 [==============================] - 11s 140ms/step - loss: 0.4496 - accuracy: 0.8377\n",
            "Epoch 5/10\n",
            "78/78 [==============================] - 11s 143ms/step - loss: 0.4058 - accuracy: 0.8428\n",
            "Epoch 6/10\n",
            "78/78 [==============================] - 11s 142ms/step - loss: 0.3232 - accuracy: 0.8791\n",
            "Epoch 7/10\n",
            "78/78 [==============================] - 11s 142ms/step - loss: 0.2941 - accuracy: 0.8903\n",
            "Epoch 8/10\n",
            "78/78 [==============================] - 11s 142ms/step - loss: 0.2597 - accuracy: 0.9007\n",
            "Epoch 9/10\n",
            "78/78 [==============================] - 11s 142ms/step - loss: 0.2547 - accuracy: 0.8860\n",
            "Epoch 10/10\n",
            "78/78 [==============================] - 11s 141ms/step - loss: 0.2356 - accuracy: 0.8998\n",
            "[0.7426597476005554, 0.8108808398246765, 0.8169257044792175, 0.8376511335372925, 0.8428324460983276, 0.8791018724441528, 0.8903281688690186, 0.9006908535957336, 0.8860103487968445, 0.8998273015022278]\n"
          ]
        }
      ]
    },
    {
      "cell_type": "code",
      "metadata": {
        "colab": {
          "base_uri": "https://localhost:8080/"
        },
        "id": "dlZd9dSL90d3",
        "outputId": "bd064c36-95cd-4fa9-ff46-a590b0c579ac"
      },
      "source": [
        "predictions = model.predict(test_generator)\n",
        "predicted_classes = np.argmax(predictions, axis=1)\n",
        "print(predicted_classes)"
      ],
      "execution_count": null,
      "outputs": [
        {
          "output_type": "stream",
          "name": "stdout",
          "text": [
            "[0 1 0 0 0 0 1 1 0 0 0 0 0 0 0 0 1 1 0 1 1 1 1 0 0 0 0 1 0 0 0 0 0 1 0 1 0\n",
            " 0 0 0 0 1 0 0 0 1 1 0 1 1 0 0 0 1 1 1 0 0 1 1 1 0 0 1 0 0 1 1 1 1 1 1 0 0\n",
            " 0 0 1 0 0 0 1 0 1 0 0 0 0 0 1 0 0 1 1 1 0 0 1 1 0 0 0 0 1 1 1 0 0 1 0 1 1\n",
            " 1 1 1 0 0 0 1 0 0 1 0 0 0 0 0 0 0 0 0 1 0 0 0 1 1 0 0 0 1 1 1 1 0 0 1 1 0\n",
            " 1 0 0 0 0 1 1 0 1 0 1 0 1 1 1 0 1 0 1 0 1 1 0 0 0 0 1 0 0 0 0 1 0 1 1 0 0\n",
            " 0 1 1 0 0 0 1 1 1 1 0 1 1 1 1 1 0 1 0 0 0 0 1 1 1 0 0 0 0 0 0 1 0 1 0 0 0\n",
            " 0 0 1 0 0 1 1 1 0 0 0 1 0 0 0 0 0 1 1 0 1 1 1 0 0 0 1 0 0 0 0 1 0 1 1 0 1\n",
            " 0 1 0 0 1 0 0 1 0 0 0 1 1 0 0 0 0 1 0 0 0 1 0 0 1 1 0 1 0 0 0]\n"
          ]
        }
      ]
    },
    {
      "cell_type": "code",
      "metadata": {
        "colab": {
          "base_uri": "https://localhost:8080/"
        },
        "id": "NgW4jM6193z5",
        "outputId": "413b9ebe-4352-4c3d-e477-6349a9e426b6"
      },
      "source": [
        "test_df[\"category\"] = test_df[\"category\"].replace({ 'Closed':0, 'Open':1})\n",
        "print(confusion_matrix(test_df['category'],predicted_classes))"
      ],
      "execution_count": null,
      "outputs": [
        {
          "output_type": "stream",
          "name": "stdout",
          "text": [
            "[[88 62]\n",
            " [85 55]]\n"
          ]
        }
      ]
    },
    {
      "cell_type": "code",
      "metadata": {
        "colab": {
          "base_uri": "https://localhost:8080/",
          "height": 279
        },
        "id": "OY1mGzpd_dMr",
        "outputId": "3a426393-7aec-4973-88cb-bc71521c4563"
      },
      "source": [
        "a,b,_ = roc_curve(test_df['category'], predicted_classes)\n",
        "plt.plot( a,b, marker='.',label='CNN')\n",
        "plt.xlabel('False Open Rate')\n",
        "plt.ylabel('True Open Rate')\n",
        "plt.legend()\n",
        "plt.show()"
      ],
      "execution_count": null,
      "outputs": [
        {
          "output_type": "display_data",
          "data": {
            "image/png": "[encoded data removed]",
            "text/plain": [
              "<Figure size 432x288 with 1 Axes>"
            ]
          },
          "metadata": {
            "needs_background": "light"
          }
        }
      ]
    },
    {
      "cell_type": "code",
      "metadata": {
        "colab": {
          "base_uri": "https://localhost:8080/",
          "height": 299
        },
        "id": "ULztG6l9AEFv",
        "outputId": "32c28741-6045-418e-98e4-3a2c9b86ea67"
      },
      "source": [
        "from matplotlib import pyplot\n",
        "\n",
        "\n",
        "path = '/content/drive/MyDrive/Drowsiness_Dataset/test'\n",
        "\n",
        "files =[]\n",
        "file_path=[]\n",
        "\n",
        "for i in os.listdir(path):\n",
        "    files.append(np.array(cv2.resize(cv2.imread(path+'/'+i),IMAGE_SIZE)))\n",
        "    file_path.append(path+'/'+i)\n",
        "\n",
        "files = np.array(files)\n",
        "files = files.astype('float32') / 255\n",
        "\n",
        "predictions =np.argmax(model.predict(files), axis=-1)\n",
        "print(['Closed','Open'])\n",
        "print(model.predict(files))\n",
        "\n",
        "print (predictions)\n",
        "\n",
        "#show the images\n",
        "for i in range(4):\n",
        "    pyplot.subplot(330 + 1 + i)\n",
        "    # plot raw pixel data\n",
        "    pyplot.imshow(np.array(cv2.resize(cv2.imread(file_path[i]),IMAGE_SIZE)))"
      ],
      "execution_count": null,
      "outputs": [
        {
          "output_type": "stream",
          "name": "stdout",
          "text": [
            "['Closed', 'Open']\n",
            "[[0.97849566 0.02150429]\n",
            " [0.8097429  0.19025709]\n",
            " [0.02660821 0.97339183]\n",
            " [0.29326424 0.70673573]]\n",
            "[0 0 1 1]\n"
          ]
        },
        {
          "output_type": "display_data",
          "data": {
            "image/png": "[encoded data removed]",
            "text/plain": [
              "<Figure size 432x288 with 4 Axes>"
            ]
          },
          "metadata": {
            "needs_background": "light"
          }
        }
      ]
    }
  ]
}